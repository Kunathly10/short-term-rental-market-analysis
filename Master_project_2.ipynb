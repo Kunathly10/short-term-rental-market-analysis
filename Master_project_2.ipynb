{
 "cells": [
  {
   "attachments": {},
   "cell_type": "markdown",
   "metadata": {},
   "source": [
    "# To begin the analysis on the short term rental start up data for Pillow Palooza. I have divided the analysis into different sections"
   ]
  },
  {
   "attachments": {},
   "cell_type": "markdown",
   "metadata": {},
   "source": [
    "* No 1 section is the data importation"
   ]
  },
  {
   "cell_type": "code",
   "execution_count": 198,
   "metadata": {},
   "outputs": [],
   "source": [
    "import pandas as pd"
   ]
  },
  {
   "cell_type": "code",
   "execution_count": 199,
   "metadata": {},
   "outputs": [],
   "source": [
    "price = r\"C:\\Users\\obafe\\OneDrive\\Documents\\Mastery project 2\\prices.csv\"\n",
    "reviews = r\"C:\\Users\\obafe\\OneDrive\\Documents\\Mastery project 2\\review.csv\"\n",
    "room_types = r\"C:\\Users\\obafe\\OneDrive\\Documents\\Mastery project 2\\room_types.csv\"\n",
    "df = pd.read_csv(price)\n",
    "df1 = pd.read_csv(reviews)\n",
    "df2 = pd.read_csv(room_types)"
   ]
  },
  {
   "cell_type": "code",
   "execution_count": 200,
   "metadata": {},
   "outputs": [
    {
     "name": "stdout",
     "output_type": "stream",
     "text": [
      "   Unnamed: 0  listing_id  price    borough neighbourhood  price_per_month   \n",
      "0           0        2595    225  Manhattan       Midtown      6843.750000  \\\n",
      "1           1        3831     89   Brooklyn  Clinton Hill      2707.083333   \n",
      "\n",
      "   latitude  longitude  \n",
      "0  40.75362  -73.98377  \n",
      "1  40.68514  -73.95976  \n",
      "   Unnamed: 0  listing_id    host_name          last_review  minimum_nights   \n",
      "0           0        2595     Jennifer  2019-05-21 00:00:00               1  \\\n",
      "1           1        3831  LisaRoxanne  2019-07-05 00:00:00               1   \n",
      "\n",
      "   number_of_reviews  reviews_per_month  calculated_host_listings_count   \n",
      "0                 45               0.38                               2  \\\n",
      "1                270               4.64                               1   \n",
      "\n",
      "   availability_365  booked_days_365  \n",
      "0               355               10  \n",
      "1               194              171  \n",
      "   Unnamed: 0  listing_id                      description        room_type\n",
      "0           0        2595            Skylit Midtown Castle  entire home/apt\n",
      "1           1        3831  Cozy Entire Floor of Brownstone  entire home/apt\n"
     ]
    }
   ],
   "source": [
    "\n",
    "print(df.head(2))\n",
    "print(df1.head(2))\n",
    "print(df2.head(2))\n",
    "\n"
   ]
  },
  {
   "attachments": {},
   "cell_type": "markdown",
   "metadata": {},
   "source": [
    "* The second section will be data cleaning to make the data good for the analysis"
   ]
  },
  {
   "cell_type": "code",
   "execution_count": 201,
   "metadata": {},
   "outputs": [],
   "source": [
    "# I am going to remove the Unnamed: 0 column as it is not useful for the analysis\n",
    "del df['Unnamed: 0']\n",
    "del df1['Unnamed: 0']\n",
    "del df2['Unnamed: 0']"
   ]
  },
  {
   "cell_type": "code",
   "execution_count": 202,
   "metadata": {},
   "outputs": [
    {
     "name": "stdout",
     "output_type": "stream",
     "text": [
      "   listing_id  price    borough neighbourhood  price_per_month  latitude   \n",
      "0        2595    225  Manhattan       Midtown      6843.750000  40.75362  \\\n",
      "1        3831     89   Brooklyn  Clinton Hill      2707.083333  40.68514   \n",
      "\n",
      "   longitude  \n",
      "0  -73.98377  \n",
      "1  -73.95976  \n",
      "   listing_id    host_name          last_review  minimum_nights   \n",
      "0        2595     Jennifer  2019-05-21 00:00:00               1  \\\n",
      "1        3831  LisaRoxanne  2019-07-05 00:00:00               1   \n",
      "\n",
      "   number_of_reviews  reviews_per_month  calculated_host_listings_count   \n",
      "0                 45               0.38                               2  \\\n",
      "1                270               4.64                               1   \n",
      "\n",
      "   availability_365  booked_days_365  \n",
      "0               355               10  \n",
      "1               194              171  \n",
      "   listing_id                      description        room_type\n",
      "0        2595            Skylit Midtown Castle  entire home/apt\n",
      "1        3831  Cozy Entire Floor of Brownstone  entire home/apt\n"
     ]
    }
   ],
   "source": [
    "print(df.head(2))\n",
    "print(df1.head(2))\n",
    "print(df2.head(2))\n"
   ]
  },
  {
   "cell_type": "code",
   "execution_count": 203,
   "metadata": {},
   "outputs": [
    {
     "name": "stdout",
     "output_type": "stream",
     "text": [
      "(25202, 7) (25209, 9) (25209, 3)\n"
     ]
    }
   ],
   "source": [
    "# I am going to look how many columns and rows we have\n",
    "print(df.shape, df1.shape, df2.shape)"
   ]
  },
  {
   "cell_type": "code",
   "execution_count": 204,
   "metadata": {},
   "outputs": [],
   "source": [
    "# now I am going to merge the three separate data together by using the inner join\n",
    "# Merging the df, df1, and df2 files on listing_id\n",
    "merge_df = df.merge(df1, on='listing_id', how='inner')\n",
    "merge_df = merge_df.merge(df2, on='listing_id', how='inner')"
   ]
  },
  {
   "cell_type": "code",
   "execution_count": 205,
   "metadata": {},
   "outputs": [
    {
     "data": {
      "text/html": [
       "<div>\n",
       "<style scoped>\n",
       "    .dataframe tbody tr th:only-of-type {\n",
       "        vertical-align: middle;\n",
       "    }\n",
       "\n",
       "    .dataframe tbody tr th {\n",
       "        vertical-align: top;\n",
       "    }\n",
       "\n",
       "    .dataframe thead th {\n",
       "        text-align: right;\n",
       "    }\n",
       "</style>\n",
       "<table border=\"1\" class=\"dataframe\">\n",
       "  <thead>\n",
       "    <tr style=\"text-align: right;\">\n",
       "      <th></th>\n",
       "      <th>listing_id</th>\n",
       "      <th>price</th>\n",
       "      <th>borough</th>\n",
       "      <th>neighbourhood</th>\n",
       "      <th>price_per_month</th>\n",
       "      <th>latitude</th>\n",
       "      <th>longitude</th>\n",
       "      <th>host_name</th>\n",
       "      <th>last_review</th>\n",
       "      <th>minimum_nights</th>\n",
       "      <th>number_of_reviews</th>\n",
       "      <th>reviews_per_month</th>\n",
       "      <th>calculated_host_listings_count</th>\n",
       "      <th>availability_365</th>\n",
       "      <th>booked_days_365</th>\n",
       "      <th>description</th>\n",
       "      <th>room_type</th>\n",
       "    </tr>\n",
       "  </thead>\n",
       "  <tbody>\n",
       "    <tr>\n",
       "      <th>0</th>\n",
       "      <td>2595</td>\n",
       "      <td>225</td>\n",
       "      <td>Manhattan</td>\n",
       "      <td>Midtown</td>\n",
       "      <td>6843.750000</td>\n",
       "      <td>40.75362</td>\n",
       "      <td>-73.98377</td>\n",
       "      <td>Jennifer</td>\n",
       "      <td>2019-05-21 00:00:00</td>\n",
       "      <td>1</td>\n",
       "      <td>45</td>\n",
       "      <td>0.38</td>\n",
       "      <td>2</td>\n",
       "      <td>355</td>\n",
       "      <td>10</td>\n",
       "      <td>Skylit Midtown Castle</td>\n",
       "      <td>entire home/apt</td>\n",
       "    </tr>\n",
       "    <tr>\n",
       "      <th>1</th>\n",
       "      <td>3831</td>\n",
       "      <td>89</td>\n",
       "      <td>Brooklyn</td>\n",
       "      <td>Clinton Hill</td>\n",
       "      <td>2707.083333</td>\n",
       "      <td>40.68514</td>\n",
       "      <td>-73.95976</td>\n",
       "      <td>LisaRoxanne</td>\n",
       "      <td>2019-07-05 00:00:00</td>\n",
       "      <td>1</td>\n",
       "      <td>270</td>\n",
       "      <td>4.64</td>\n",
       "      <td>1</td>\n",
       "      <td>194</td>\n",
       "      <td>171</td>\n",
       "      <td>Cozy Entire Floor of Brownstone</td>\n",
       "      <td>entire home/apt</td>\n",
       "    </tr>\n",
       "    <tr>\n",
       "      <th>2</th>\n",
       "      <td>5099</td>\n",
       "      <td>200</td>\n",
       "      <td>Manhattan</td>\n",
       "      <td>Murray Hill</td>\n",
       "      <td>6083.333333</td>\n",
       "      <td>40.74767</td>\n",
       "      <td>-73.97500</td>\n",
       "      <td>Chris</td>\n",
       "      <td>2019-06-22 00:00:00</td>\n",
       "      <td>3</td>\n",
       "      <td>74</td>\n",
       "      <td>0.59</td>\n",
       "      <td>1</td>\n",
       "      <td>129</td>\n",
       "      <td>236</td>\n",
       "      <td>Large Cozy 1 BR Apartment In Midtown East</td>\n",
       "      <td>entire home/apt</td>\n",
       "    </tr>\n",
       "    <tr>\n",
       "      <th>3</th>\n",
       "      <td>5178</td>\n",
       "      <td>79</td>\n",
       "      <td>Manhattan</td>\n",
       "      <td>Hell's Kitchen</td>\n",
       "      <td>2402.916667</td>\n",
       "      <td>40.76489</td>\n",
       "      <td>-73.98493</td>\n",
       "      <td>Shunichi</td>\n",
       "      <td>2019-06-24 00:00:00</td>\n",
       "      <td>2</td>\n",
       "      <td>430</td>\n",
       "      <td>3.47</td>\n",
       "      <td>1</td>\n",
       "      <td>220</td>\n",
       "      <td>145</td>\n",
       "      <td>Large Furnished Room Near B'way</td>\n",
       "      <td>private room</td>\n",
       "    </tr>\n",
       "    <tr>\n",
       "      <th>4</th>\n",
       "      <td>5238</td>\n",
       "      <td>150</td>\n",
       "      <td>Manhattan</td>\n",
       "      <td>Chinatown</td>\n",
       "      <td>4562.500000</td>\n",
       "      <td>40.71344</td>\n",
       "      <td>-73.99037</td>\n",
       "      <td>Ben</td>\n",
       "      <td>2019-06-09 00:00:00</td>\n",
       "      <td>1</td>\n",
       "      <td>160</td>\n",
       "      <td>1.33</td>\n",
       "      <td>4</td>\n",
       "      <td>188</td>\n",
       "      <td>177</td>\n",
       "      <td>Cute &amp; Cozy Lower East Side 1 bdrm</td>\n",
       "      <td>entire home/apt</td>\n",
       "    </tr>\n",
       "  </tbody>\n",
       "</table>\n",
       "</div>"
      ],
      "text/plain": [
       "   listing_id  price    borough   neighbourhood  price_per_month  latitude   \n",
       "0        2595    225  Manhattan         Midtown      6843.750000  40.75362  \\\n",
       "1        3831     89   Brooklyn    Clinton Hill      2707.083333  40.68514   \n",
       "2        5099    200  Manhattan     Murray Hill      6083.333333  40.74767   \n",
       "3        5178     79  Manhattan  Hell's Kitchen      2402.916667  40.76489   \n",
       "4        5238    150  Manhattan       Chinatown      4562.500000  40.71344   \n",
       "\n",
       "   longitude    host_name          last_review  minimum_nights   \n",
       "0  -73.98377     Jennifer  2019-05-21 00:00:00               1  \\\n",
       "1  -73.95976  LisaRoxanne  2019-07-05 00:00:00               1   \n",
       "2  -73.97500        Chris  2019-06-22 00:00:00               3   \n",
       "3  -73.98493     Shunichi  2019-06-24 00:00:00               2   \n",
       "4  -73.99037          Ben  2019-06-09 00:00:00               1   \n",
       "\n",
       "   number_of_reviews  reviews_per_month  calculated_host_listings_count   \n",
       "0                 45               0.38                               2  \\\n",
       "1                270               4.64                               1   \n",
       "2                 74               0.59                               1   \n",
       "3                430               3.47                               1   \n",
       "4                160               1.33                               4   \n",
       "\n",
       "   availability_365  booked_days_365   \n",
       "0               355               10  \\\n",
       "1               194              171   \n",
       "2               129              236   \n",
       "3               220              145   \n",
       "4               188              177   \n",
       "\n",
       "                                 description        room_type  \n",
       "0                      Skylit Midtown Castle  entire home/apt  \n",
       "1            Cozy Entire Floor of Brownstone  entire home/apt  \n",
       "2  Large Cozy 1 BR Apartment In Midtown East  entire home/apt  \n",
       "3            Large Furnished Room Near B'way     private room  \n",
       "4         Cute & Cozy Lower East Side 1 bdrm  entire home/apt  "
      ]
     },
     "execution_count": 205,
     "metadata": {},
     "output_type": "execute_result"
    }
   ],
   "source": [
    "merge_df.head()"
   ]
  },
  {
   "cell_type": "code",
   "execution_count": 206,
   "metadata": {},
   "outputs": [
    {
     "data": {
      "text/plain": [
       "array([[2595, 225, 'Manhattan', ..., 10, 'Skylit Midtown Castle',\n",
       "        'entire home/apt'],\n",
       "       [3831, 89, 'Brooklyn', ..., 171,\n",
       "        'Cozy Entire Floor of Brownstone', 'entire home/apt'],\n",
       "       [5099, 200, 'Manhattan', ..., 236,\n",
       "        'Large Cozy 1 BR Apartment In Midtown East', 'entire home/apt'],\n",
       "       ...,\n",
       "       [36438336, 235, 'Staten Island', ..., 278, 'Seas The Moment',\n",
       "        'private room'],\n",
       "       [36442252, 100, 'Bronx', ..., 325,\n",
       "        '1B-1B apartment near by Metro', 'entire home/apt'],\n",
       "       [36455809, 30, 'Brooklyn', ..., 364,\n",
       "        'Cozy Private Room in Bushwick, Brooklyn', 'private room']],\n",
       "      dtype=object)"
      ]
     },
     "execution_count": 206,
     "metadata": {},
     "output_type": "execute_result"
    }
   ],
   "source": [
    "merge_df.values"
   ]
  },
  {
   "cell_type": "code",
   "execution_count": 207,
   "metadata": {},
   "outputs": [
    {
     "name": "stdout",
     "output_type": "stream",
     "text": [
      "<class 'pandas.core.frame.DataFrame'>\n",
      "RangeIndex: 25202 entries, 0 to 25201\n",
      "Data columns (total 17 columns):\n",
      " #   Column                          Non-Null Count  Dtype  \n",
      "---  ------                          --------------  -----  \n",
      " 0   listing_id                      25202 non-null  int64  \n",
      " 1   price                           25202 non-null  int64  \n",
      " 2   borough                         25202 non-null  object \n",
      " 3   neighbourhood                   25202 non-null  object \n",
      " 4   price_per_month                 25202 non-null  float64\n",
      " 5   latitude                        25202 non-null  float64\n",
      " 6   longitude                       25202 non-null  float64\n",
      " 7   host_name                       25194 non-null  object \n",
      " 8   last_review                     25202 non-null  object \n",
      " 9   minimum_nights                  25202 non-null  int64  \n",
      " 10  number_of_reviews               25202 non-null  int64  \n",
      " 11  reviews_per_month               25202 non-null  float64\n",
      " 12  calculated_host_listings_count  25202 non-null  int64  \n",
      " 13  availability_365                25202 non-null  int64  \n",
      " 14  booked_days_365                 25202 non-null  int64  \n",
      " 15  description                     25192 non-null  object \n",
      " 16  room_type                       25202 non-null  object \n",
      "dtypes: float64(4), int64(7), object(6)\n",
      "memory usage: 3.3+ MB\n"
     ]
    }
   ],
   "source": [
    "merge_df.info()"
   ]
  },
  {
   "cell_type": "code",
   "execution_count": 208,
   "metadata": {},
   "outputs": [
    {
     "data": {
      "text/plain": [
       "listing_id                         0\n",
       "price                              0\n",
       "borough                            0\n",
       "neighbourhood                      0\n",
       "price_per_month                    0\n",
       "latitude                           0\n",
       "longitude                          0\n",
       "host_name                          8\n",
       "last_review                        0\n",
       "minimum_nights                     0\n",
       "number_of_reviews                  0\n",
       "reviews_per_month                  0\n",
       "calculated_host_listings_count     0\n",
       "availability_365                   0\n",
       "booked_days_365                    0\n",
       "description                       10\n",
       "room_type                          0\n",
       "dtype: int64"
      ]
     },
     "execution_count": 208,
     "metadata": {},
     "output_type": "execute_result"
    }
   ],
   "source": [
    "merge_df.isnull().sum()"
   ]
  },
  {
   "cell_type": "code",
   "execution_count": 209,
   "metadata": {},
   "outputs": [],
   "source": [
    "# For this data, we have a very good dataset and a very small null values.\n",
    "# I will substitute the null values in both host_name and description with unknown since this is a very small value.\n",
    "merge_df['host_name'].fillna('unknown', inplace=True)\n",
    "merge_df['description'].fillna('unknown', inplace=True)"
   ]
  },
  {
   "cell_type": "code",
   "execution_count": 210,
   "metadata": {},
   "outputs": [
    {
     "data": {
      "text/plain": [
       "listing_id                          int64\n",
       "price                               int64\n",
       "borough                            object\n",
       "neighbourhood                      object\n",
       "price_per_month                   float64\n",
       "latitude                          float64\n",
       "longitude                         float64\n",
       "host_name                          object\n",
       "last_review                        object\n",
       "minimum_nights                      int64\n",
       "number_of_reviews                   int64\n",
       "reviews_per_month                 float64\n",
       "calculated_host_listings_count      int64\n",
       "availability_365                    int64\n",
       "booked_days_365                     int64\n",
       "description                        object\n",
       "room_type                          object\n",
       "dtype: object"
      ]
     },
     "execution_count": 210,
     "metadata": {},
     "output_type": "execute_result"
    }
   ],
   "source": [
    "merge_df.dtypes"
   ]
  },
  {
   "cell_type": "code",
   "execution_count": 211,
   "metadata": {},
   "outputs": [],
   "source": [
    "# Our last_review data type is in object, I would cast it as datetime\n",
    "merge_df['last_review'] = pd.to_datetime(merge_df['last_review'])"
   ]
  },
  {
   "cell_type": "code",
   "execution_count": 212,
   "metadata": {},
   "outputs": [
    {
     "data": {
      "text/plain": [
       "Index(['listing_id', 'price', 'borough', 'neighbourhood', 'price_per_month',\n",
       "       'latitude', 'longitude', 'host_name', 'last_review', 'minimum_nights',\n",
       "       'number_of_reviews', 'reviews_per_month',\n",
       "       'calculated_host_listings_count', 'availability_365', 'booked_days_365',\n",
       "       'description', 'room_type'],\n",
       "      dtype='object')"
      ]
     },
     "execution_count": 212,
     "metadata": {},
     "output_type": "execute_result"
    }
   ],
   "source": [
    "merge_df.columns"
   ]
  },
  {
   "attachments": {},
   "cell_type": "markdown",
   "metadata": {},
   "source": [
    "# Now we have all our data cleaned, we can start with the business questions and exploratory data analysis\n"
   ]
  },
  {
   "attachments": {},
   "cell_type": "markdown",
   "metadata": {},
   "source": [
    "What are the most popular neighborhoods for short-term rentals in New York City?\n",
    "\n",
    "What is the average rental price for short-term rentals in New York City, and how does it vary by neighborhood and property type?\n",
    "\n",
    "What are the most commonly rented property types on Airbnb in New York City, and how does this vary by neighborhood?\n",
    "\n",
    "What is the average length of stay for short-term rentals in New York City, and how does this vary by neighborhood and property type?\n",
    "\n",
    "How has demand for short-term rentals in New York City changed over time, and are there any seasonal trends that could impact business decisions?\n"
   ]
  },
  {
   "cell_type": "code",
   "execution_count": 213,
   "metadata": {},
   "outputs": [
    {
     "name": "stdout",
     "output_type": "stream",
     "text": [
      "Most popular neighborhoods for short-term rentals in New York City:\n",
      "neighbourhood\n",
      "Bedford-Stuyvesant    2206\n",
      "Williamsburg          1853\n",
      "Harlem                1435\n",
      "Name: count, dtype: int64\n"
     ]
    }
   ],
   "source": [
    "#1. What are the most popular neighborhoods for short-term rentals in New York City?\n",
    "popular_neighborhoods = merge_df['neighbourhood'].value_counts().head(3)\n",
    "print(\"Most popular neighborhoods for short-term rentals in New York City:\")\n",
    "print(popular_neighborhoods)\n"
   ]
  },
  {
   "cell_type": "code",
   "execution_count": 214,
   "metadata": {},
   "outputs": [
    {
     "data": {
      "image/png": "[encoded data removed]",
      "text/plain": [
       "<Figure size 640x480 with 1 Axes>"
      ]
     },
     "metadata": {},
     "output_type": "display_data"
    }
   ],
   "source": [
    "import matplotlib.pyplot as plt\n",
    "\n",
    "popular_neighborhoods.plot(kind='bar')\n",
    "plt.xlabel('Neighborhoods')\n",
    "plt.ylabel('Count')\n",
    "plt.title('Most Popular Neighborhoods for Short-term Rentals')\n",
    "plt.show()\n"
   ]
  },
  {
   "cell_type": "code",
   "execution_count": 215,
   "metadata": {},
   "outputs": [
    {
     "name": "stdout",
     "output_type": "stream",
     "text": [
      "Average rental price for short-term rentals in New York City, by neighborhood and property type:\n",
      "         neighbourhood        room_type       price\n",
      "387           Sea Gate  entire home/apt  805.000000\n",
      "438            Tribeca  entire home/apt  450.660000\n",
      "24             Bayside  entire home/apt  398.909091\n",
      "172  Flatiron District  entire home/apt  386.833333\n",
      "394               SoHo  entire home/apt  383.834646\n",
      "..                 ...              ...         ...\n",
      "176          Flatlands      shared room   22.000000\n",
      "454           Van Nest      shared room   20.000000\n",
      "386      Schuylerville      shared room   20.000000\n",
      "203       Graniteville     private room   20.000000\n",
      "360      Randall Manor      shared room   13.000000\n",
      "\n",
      "[489 rows x 3 columns]\n"
     ]
    }
   ],
   "source": [
    "# 2. What is the average rental price for short-term rentals in New York City, and how does it vary by neighborhood and property type?\n",
    "average_price = merge_df.groupby(['neighbourhood', 'room_type'])['price'].mean().reset_index()\n",
    "print(\"Average rental price for short-term rentals in New York City, by neighborhood and property type:\")\n",
    "average_price = average_price.sort_values('price', ascending= False)\n",
    "print(average_price)\n"
   ]
  },
  {
   "cell_type": "code",
   "execution_count": 216,
   "metadata": {},
   "outputs": [
    {
     "name": "stdout",
     "output_type": "stream",
     "text": [
      "Average length of stay for short-term rentals in New York City, by neighborhood and property type:\n",
      "neighbourhood  room_type      \n",
      "Allerton       entire home/apt     2.285714\n",
      "               private room        2.000000\n",
      "Arden Heights  entire home/apt    12.000000\n",
      "               private room        2.000000\n",
      "Arrochar       entire home/apt     1.777778\n",
      "                                    ...    \n",
      "Woodlawn       entire home/apt     1.500000\n",
      "               private room        1.250000\n",
      "Woodside       entire home/apt     2.978723\n",
      "               private room       13.012658\n",
      "               shared room         2.000000\n",
      "Name: minimum_nights, Length: 489, dtype: float64\n"
     ]
    }
   ],
   "source": [
    "# Business question 4: What is the average length of stay for short-term rentals in New York City,\n",
    "# and how does it vary by neighborhood and property type?\n",
    "average_length_of_stay = merge_df.groupby(['neighbourhood', 'room_type'])['minimum_nights'].mean()\n",
    "print(\"Average length of stay for short-term rentals in New York City, by neighborhood and property type:\")\n",
    "print(average_length_of_stay)"
   ]
  },
  {
   "cell_type": "code",
   "execution_count": 238,
   "metadata": {},
   "outputs": [
    {
     "name": "stdout",
     "output_type": "stream",
     "text": [
      "Most commonly rented property types on Airbnb in New York City, by neighborhood:\n",
      "most_common_property_type\n",
      "entire home/apt    116\n",
      "private room       108\n",
      "shared room          4\n",
      "Name: count, dtype: int64\n"
     ]
    }
   ],
   "source": [
    "# 3 What are the most commonly rented property types on Airbnb in New York City, and how does this vary by neighborhood?\n",
    "common_property_types = merge_df.groupby(['neighbourhood', 'room_type']).size().reset_index(name='count')\n",
    "most_common_property_types = common_property_types.groupby('neighbourhood').apply(lambda x: x[x['count'] == x['count'].max()]['room_type']).reset_index(name='most_common_property_type').value_counts('most_common_property_type')\n",
    "print(\"Most commonly rented property types on Airbnb in New York City, by neighborhood:\")\n",
    "print(most_common_property_types)\n"
   ]
  },
  {
   "cell_type": "code",
   "execution_count": 233,
   "metadata": {},
   "outputs": [
    {
     "data": {
      "image/png": "[encoded data removed]",
      "text/plain": [
       "<Figure size 640x480 with 1 Axes>"
      ]
     },
     "metadata": {},
     "output_type": "display_data"
    }
   ],
   "source": [
    "common_property_types.value_counts().plot(kind='bar')\n",
    "plt.xlabel('Neighborhood')\n",
    "plt.ylabel('Count')\n",
    "plt.title('Most Commonly Rented Property Types')\n",
    "plt.show()\n"
   ]
  },
  {
   "cell_type": "code",
   "execution_count": 219,
   "metadata": {},
   "outputs": [
    {
     "name": "stdout",
     "output_type": "stream",
     "text": [
      "Most commonly rented property types on Airbnb in New York City, by neighborhood:\n",
      "neighbourhood\n",
      "Allerton              private room\n",
      "Arden Heights      entire home/apt\n",
      "Arrochar              private room\n",
      "Arverne            entire home/apt\n",
      "Astoria               private room\n",
      "                        ...       \n",
      "Willowbrook        entire home/apt\n",
      "Windsor Terrace    entire home/apt\n",
      "Woodhaven             private room\n",
      "Woodlawn           entire home/apt\n",
      "Woodside              private room\n",
      "Name: room_type, Length: 216, dtype: object\n"
     ]
    }
   ],
   "source": [
    "# Business question 3: What are the most commonly rented property types on Airbnb in New York City,\n",
    "# and how does this vary by neighborhood?\n",
    "common_property_types = merge_df.groupby('neighbourhood')['room_type'].apply(lambda x: x.mode()[0])\n",
    "print(\"Most commonly rented property types on Airbnb in New York City, by neighborhood:\")\n",
    "print(common_property_types)"
   ]
  },
  {
   "cell_type": "code",
   "execution_count": 220,
   "metadata": {},
   "outputs": [
    {
     "name": "stdout",
     "output_type": "stream",
     "text": [
      "Top 10 average length of stay for short-term rentals in New York City, by neighborhood and property type:\n",
      "neighbourhood      room_type      \n",
      "Claremont Village  entire home/apt    32.000000\n",
      "Great Kills        entire home/apt    17.250000\n",
      "East Flatbush      shared room        15.500000\n",
      "Lower East Side    shared room        14.866667\n",
      "Hunts Point        private room       14.750000\n",
      "Greenwich Village  private room       14.235294\n",
      "Vinegar Hill       entire home/apt    14.000000\n",
      "Woodside           private room       13.012658\n",
      "Fordham            entire home/apt    13.000000\n",
      "Murray Hill        entire home/apt    12.222222\n",
      "Name: minimum_nights, dtype: float64\n"
     ]
    }
   ],
   "source": [
    "# Business question 4: What is the average length of stay for short-term rentals in New York City,\n",
    "# and how does it vary by neighborhood and property type?\n",
    "\n",
    "# Grouping by neighborhood and property type and calculating the average length of stay\n",
    "average_length_of_stay = merge_df.groupby(['neighbourhood', 'room_type'])['minimum_nights'].mean()\n",
    "\n",
    "# Sorting the values in descending order\n",
    "average_length_of_stay_sorted = average_length_of_stay.sort_values(ascending=False)\n",
    "\n",
    "# Selecting the top 10 values\n",
    "top_10_average_length_of_stay = average_length_of_stay_sorted.head(10)\n",
    "\n",
    "# Printing the result\n",
    "print(\"Top 10 average length of stay for short-term rentals in New York City, by neighborhood and property type:\")\n",
    "print(top_10_average_length_of_stay)\n"
   ]
  },
  {
   "cell_type": "code",
   "execution_count": 221,
   "metadata": {},
   "outputs": [
    {
     "data": {
      "image/png": "[encoded data removed]",
      "text/plain": [
       "<Figure size 1000x800 with 2 Axes>"
      ]
     },
     "metadata": {},
     "output_type": "display_data"
    }
   ],
   "source": [
    "import seaborn as sns\n",
    "import matplotlib.pyplot as plt\n",
    "\n",
    "# Reshaping the data for heatmap\n",
    "average_length_of_stay_heatmap = top_10_average_length_of_stay.unstack()\n",
    "\n",
    "# Creating the heatmap\n",
    "plt.figure(figsize=(10, 8))\n",
    "sns.heatmap(average_length_of_stay_heatmap, cmap='coolwarm', annot=True, fmt=\".1f\")\n",
    "\n",
    "# Adjusting the plot labels and title\n",
    "plt.xlabel('Property Type')\n",
    "plt.ylabel('Neighborhood')\n",
    "plt.title('Average Length of Stay for Short-term Rentals in New York City')\n",
    "\n",
    "# Displaying the heatmap\n",
    "plt.show()\n"
   ]
  },
  {
   "cell_type": "code",
   "execution_count": 222,
   "metadata": {},
   "outputs": [
    {
     "name": "stdout",
     "output_type": "stream",
     "text": [
      "Demand for short-term rentals in New York City over time:\n",
      "month\n",
      "1     20750\n",
      "2      7215\n",
      "3     11307\n",
      "4     24828\n",
      "5     86465\n",
      "6    619567\n",
      "7    243262\n",
      "Name: number_of_reviews, dtype: int64\n"
     ]
    }
   ],
   "source": [
    "# Business question 5: How has demand for short-term rentals in New York City changed over time,\n",
    "# and are there any seasonal trends that could impact business decisions?\n",
    "merge_df['last_review'] = pd.to_datetime(merge_df['last_review'])\n",
    "merge_df['month'] = merge_df['last_review'].dt.month\n",
    "demand_over_time = merge_df.groupby('month')['number_of_reviews'].sum()\n",
    "print(\"Demand for short-term rentals in New York City over time:\")\n",
    "print(demand_over_time)"
   ]
  },
  {
   "cell_type": "code",
   "execution_count": 223,
   "metadata": {},
   "outputs": [
    {
     "data": {
      "text/plain": [
       "Text(0.5, 1.0, 'Demand for Short-term Rentals in New York City Over Time')"
      ]
     },
     "execution_count": 223,
     "metadata": {},
     "output_type": "execute_result"
    },
    {
     "data": {
      "image/png": "[encoded data removed]",
      "text/plain": [
       "<Figure size 640x480 with 1 Axes>"
      ]
     },
     "metadata": {},
     "output_type": "display_data"
    }
   ],
   "source": [
    "import matplotlib.pyplot as plt\n",
    "\n",
    "# Code to calculate demand_over_time as mentioned in the previous response\n",
    "\n",
    "# Create line chart\n",
    "plt.plot(demand_over_time.index, demand_over_time.values, marker='o')\n",
    "plt.xlabel('Month')\n",
    "plt.ylabel('Demand')\n",
    "plt.title('Demand for Short-term Rentals in New York City Over Time')\n"
   ]
  },
  {
   "cell_type": "code",
   "execution_count": 239,
   "metadata": {},
   "outputs": [
    {
     "data": {
      "image/png": "[encoded data removed]",
      "text/plain": [
       "<Figure size 640x480 with 1 Axes>"
      ]
     },
     "metadata": {},
     "output_type": "display_data"
    }
   ],
   "source": [
    "import matplotlib.pyplot as plt\n",
    "\n",
    "# Code to calculate demand_over_time as mentioned in the previous response\n",
    "\n",
    "# Create line chart\n",
    "plt.plot(demand_over_time.index, demand_over_time.values, marker='o')\n",
    "\n",
    "# Add demand number for each month\n",
    "for x, y in zip(demand_over_time.index, demand_over_time.values):\n",
    "    plt.text(x, y, str(y), ha='center', va='bottom')\n",
    "\n",
    "# Adjust the plot labels and title\n",
    "plt.xlabel('Month')\n",
    "plt.ylabel('Demand')\n",
    "plt.title('Demand for Short-term Rentals in New York City Over Time')\n",
    "\n",
    "# Display the line plot\n",
    "plt.show()\n"
   ]
  },
  {
   "cell_type": "code",
   "execution_count": 224,
   "metadata": {},
   "outputs": [
    {
     "name": "stdout",
     "output_type": "stream",
     "text": [
      "Borough with highest demand during the month of maximum demand: Manhattan\n",
      "Neighbourhood with highest demand during the month of maximum demand: Bedford-Stuyvesant\n",
      "Room type with highest demand during the month of maximum demand: entire home/apt\n"
     ]
    }
   ],
   "source": [
    "# Code to calculate demand_over_time as mentioned in the previous response\n",
    "\n",
    "# Find the maximum demand value and its corresponding index\n",
    "max_demand = demand_over_time.max()\n",
    "max_demand_month = demand_over_time.idxmax()\n",
    "\n",
    "# Filter the DataFrame to include only the rows with the month of maximum demand\n",
    "max_demand_data = merge_df[merge_df['month'] == max_demand_month]\n",
    "\n",
    "# Find the most common borough, neighbourhood, and room type during the month of maximum demand\n",
    "common_borough = max_demand_data['borough'].mode().values[0]\n",
    "common_neighbourhood = max_demand_data['neighbourhood'].mode().values[0]\n",
    "common_room_type = max_demand_data['room_type'].mode().values[0]\n",
    "\n",
    "# Print the results\n",
    "print(\"Borough with highest demand during the month of maximum demand:\", common_borough)\n",
    "print(\"Neighbourhood with highest demand during the month of maximum demand:\", common_neighbourhood)\n",
    "print(\"Room type with highest demand during the month of maximum demand:\", common_room_type)\n"
   ]
  },
  {
   "cell_type": "code",
   "execution_count": 225,
   "metadata": {},
   "outputs": [
    {
     "data": {
      "text/html": [
       "<div>\n",
       "<style scoped>\n",
       "    .dataframe tbody tr th:only-of-type {\n",
       "        vertical-align: middle;\n",
       "    }\n",
       "\n",
       "    .dataframe tbody tr th {\n",
       "        vertical-align: top;\n",
       "    }\n",
       "\n",
       "    .dataframe thead th {\n",
       "        text-align: right;\n",
       "    }\n",
       "</style>\n",
       "<table border=\"1\" class=\"dataframe\">\n",
       "  <thead>\n",
       "    <tr style=\"text-align: right;\">\n",
       "      <th></th>\n",
       "      <th>listing_id</th>\n",
       "      <th>price</th>\n",
       "      <th>borough</th>\n",
       "      <th>neighbourhood</th>\n",
       "      <th>price_per_month</th>\n",
       "      <th>latitude</th>\n",
       "      <th>longitude</th>\n",
       "      <th>host_name</th>\n",
       "      <th>last_review</th>\n",
       "      <th>minimum_nights</th>\n",
       "      <th>number_of_reviews</th>\n",
       "      <th>reviews_per_month</th>\n",
       "      <th>calculated_host_listings_count</th>\n",
       "      <th>availability_365</th>\n",
       "      <th>booked_days_365</th>\n",
       "      <th>description</th>\n",
       "      <th>room_type</th>\n",
       "      <th>month</th>\n",
       "    </tr>\n",
       "  </thead>\n",
       "  <tbody>\n",
       "    <tr>\n",
       "      <th>0</th>\n",
       "      <td>2595</td>\n",
       "      <td>225</td>\n",
       "      <td>Manhattan</td>\n",
       "      <td>Midtown</td>\n",
       "      <td>6843.750000</td>\n",
       "      <td>40.75362</td>\n",
       "      <td>-73.98377</td>\n",
       "      <td>Jennifer</td>\n",
       "      <td>2019-05-21</td>\n",
       "      <td>1</td>\n",
       "      <td>45</td>\n",
       "      <td>0.38</td>\n",
       "      <td>2</td>\n",
       "      <td>355</td>\n",
       "      <td>10</td>\n",
       "      <td>Skylit Midtown Castle</td>\n",
       "      <td>entire home/apt</td>\n",
       "      <td>5</td>\n",
       "    </tr>\n",
       "    <tr>\n",
       "      <th>1</th>\n",
       "      <td>3831</td>\n",
       "      <td>89</td>\n",
       "      <td>Brooklyn</td>\n",
       "      <td>Clinton Hill</td>\n",
       "      <td>2707.083333</td>\n",
       "      <td>40.68514</td>\n",
       "      <td>-73.95976</td>\n",
       "      <td>LisaRoxanne</td>\n",
       "      <td>2019-07-05</td>\n",
       "      <td>1</td>\n",
       "      <td>270</td>\n",
       "      <td>4.64</td>\n",
       "      <td>1</td>\n",
       "      <td>194</td>\n",
       "      <td>171</td>\n",
       "      <td>Cozy Entire Floor of Brownstone</td>\n",
       "      <td>entire home/apt</td>\n",
       "      <td>7</td>\n",
       "    </tr>\n",
       "    <tr>\n",
       "      <th>2</th>\n",
       "      <td>5099</td>\n",
       "      <td>200</td>\n",
       "      <td>Manhattan</td>\n",
       "      <td>Murray Hill</td>\n",
       "      <td>6083.333333</td>\n",
       "      <td>40.74767</td>\n",
       "      <td>-73.97500</td>\n",
       "      <td>Chris</td>\n",
       "      <td>2019-06-22</td>\n",
       "      <td>3</td>\n",
       "      <td>74</td>\n",
       "      <td>0.59</td>\n",
       "      <td>1</td>\n",
       "      <td>129</td>\n",
       "      <td>236</td>\n",
       "      <td>Large Cozy 1 BR Apartment In Midtown East</td>\n",
       "      <td>entire home/apt</td>\n",
       "      <td>6</td>\n",
       "    </tr>\n",
       "    <tr>\n",
       "      <th>3</th>\n",
       "      <td>5178</td>\n",
       "      <td>79</td>\n",
       "      <td>Manhattan</td>\n",
       "      <td>Hell's Kitchen</td>\n",
       "      <td>2402.916667</td>\n",
       "      <td>40.76489</td>\n",
       "      <td>-73.98493</td>\n",
       "      <td>Shunichi</td>\n",
       "      <td>2019-06-24</td>\n",
       "      <td>2</td>\n",
       "      <td>430</td>\n",
       "      <td>3.47</td>\n",
       "      <td>1</td>\n",
       "      <td>220</td>\n",
       "      <td>145</td>\n",
       "      <td>Large Furnished Room Near B'way</td>\n",
       "      <td>private room</td>\n",
       "      <td>6</td>\n",
       "    </tr>\n",
       "    <tr>\n",
       "      <th>4</th>\n",
       "      <td>5238</td>\n",
       "      <td>150</td>\n",
       "      <td>Manhattan</td>\n",
       "      <td>Chinatown</td>\n",
       "      <td>4562.500000</td>\n",
       "      <td>40.71344</td>\n",
       "      <td>-73.99037</td>\n",
       "      <td>Ben</td>\n",
       "      <td>2019-06-09</td>\n",
       "      <td>1</td>\n",
       "      <td>160</td>\n",
       "      <td>1.33</td>\n",
       "      <td>4</td>\n",
       "      <td>188</td>\n",
       "      <td>177</td>\n",
       "      <td>Cute &amp; Cozy Lower East Side 1 bdrm</td>\n",
       "      <td>entire home/apt</td>\n",
       "      <td>6</td>\n",
       "    </tr>\n",
       "    <tr>\n",
       "      <th>5</th>\n",
       "      <td>5295</td>\n",
       "      <td>135</td>\n",
       "      <td>Manhattan</td>\n",
       "      <td>Upper West Side</td>\n",
       "      <td>4106.250000</td>\n",
       "      <td>40.80316</td>\n",
       "      <td>-73.96545</td>\n",
       "      <td>Lena</td>\n",
       "      <td>2019-06-22</td>\n",
       "      <td>5</td>\n",
       "      <td>53</td>\n",
       "      <td>0.43</td>\n",
       "      <td>1</td>\n",
       "      <td>6</td>\n",
       "      <td>359</td>\n",
       "      <td>Beautiful 1br on Upper West Side</td>\n",
       "      <td>entire home/apt</td>\n",
       "      <td>6</td>\n",
       "    </tr>\n",
       "    <tr>\n",
       "      <th>6</th>\n",
       "      <td>5441</td>\n",
       "      <td>85</td>\n",
       "      <td>Manhattan</td>\n",
       "      <td>Hell's Kitchen</td>\n",
       "      <td>2585.416667</td>\n",
       "      <td>40.76076</td>\n",
       "      <td>-73.98867</td>\n",
       "      <td>Kate</td>\n",
       "      <td>2019-06-23</td>\n",
       "      <td>2</td>\n",
       "      <td>188</td>\n",
       "      <td>1.50</td>\n",
       "      <td>1</td>\n",
       "      <td>39</td>\n",
       "      <td>326</td>\n",
       "      <td>Central Manhattan/near Broadway</td>\n",
       "      <td>private room</td>\n",
       "      <td>6</td>\n",
       "    </tr>\n",
       "    <tr>\n",
       "      <th>7</th>\n",
       "      <td>5803</td>\n",
       "      <td>89</td>\n",
       "      <td>Brooklyn</td>\n",
       "      <td>South Slope</td>\n",
       "      <td>2707.083333</td>\n",
       "      <td>40.66829</td>\n",
       "      <td>-73.98779</td>\n",
       "      <td>Laurie</td>\n",
       "      <td>2019-06-24</td>\n",
       "      <td>4</td>\n",
       "      <td>167</td>\n",
       "      <td>1.34</td>\n",
       "      <td>3</td>\n",
       "      <td>314</td>\n",
       "      <td>51</td>\n",
       "      <td>Lovely Room 1, Garden, Best Area, Legal rental</td>\n",
       "      <td>private room</td>\n",
       "      <td>6</td>\n",
       "    </tr>\n",
       "    <tr>\n",
       "      <th>8</th>\n",
       "      <td>6021</td>\n",
       "      <td>85</td>\n",
       "      <td>Manhattan</td>\n",
       "      <td>Upper West Side</td>\n",
       "      <td>2585.416667</td>\n",
       "      <td>40.79826</td>\n",
       "      <td>-73.96113</td>\n",
       "      <td>Claudio</td>\n",
       "      <td>2019-07-05</td>\n",
       "      <td>2</td>\n",
       "      <td>113</td>\n",
       "      <td>0.91</td>\n",
       "      <td>1</td>\n",
       "      <td>333</td>\n",
       "      <td>32</td>\n",
       "      <td>Wonderful Guest Bedroom in Manhattan for SINGLES</td>\n",
       "      <td>private room</td>\n",
       "      <td>7</td>\n",
       "    </tr>\n",
       "    <tr>\n",
       "      <th>9</th>\n",
       "      <td>6848</td>\n",
       "      <td>140</td>\n",
       "      <td>Brooklyn</td>\n",
       "      <td>Williamsburg</td>\n",
       "      <td>4258.333333</td>\n",
       "      <td>40.70837</td>\n",
       "      <td>-73.95352</td>\n",
       "      <td>Allen &amp; Irina</td>\n",
       "      <td>2019-06-29</td>\n",
       "      <td>2</td>\n",
       "      <td>148</td>\n",
       "      <td>1.20</td>\n",
       "      <td>1</td>\n",
       "      <td>46</td>\n",
       "      <td>319</td>\n",
       "      <td>Only 2 stops to Manhattan studio</td>\n",
       "      <td>entire home/apt</td>\n",
       "      <td>6</td>\n",
       "    </tr>\n",
       "  </tbody>\n",
       "</table>\n",
       "</div>"
      ],
      "text/plain": [
       "   listing_id  price    borough    neighbourhood  price_per_month  latitude   \n",
       "0        2595    225  Manhattan          Midtown      6843.750000  40.75362  \\\n",
       "1        3831     89   Brooklyn     Clinton Hill      2707.083333  40.68514   \n",
       "2        5099    200  Manhattan      Murray Hill      6083.333333  40.74767   \n",
       "3        5178     79  Manhattan   Hell's Kitchen      2402.916667  40.76489   \n",
       "4        5238    150  Manhattan        Chinatown      4562.500000  40.71344   \n",
       "5        5295    135  Manhattan  Upper West Side      4106.250000  40.80316   \n",
       "6        5441     85  Manhattan   Hell's Kitchen      2585.416667  40.76076   \n",
       "7        5803     89   Brooklyn      South Slope      2707.083333  40.66829   \n",
       "8        6021     85  Manhattan  Upper West Side      2585.416667  40.79826   \n",
       "9        6848    140   Brooklyn     Williamsburg      4258.333333  40.70837   \n",
       "\n",
       "   longitude      host_name last_review  minimum_nights  number_of_reviews   \n",
       "0  -73.98377       Jennifer  2019-05-21               1                 45  \\\n",
       "1  -73.95976    LisaRoxanne  2019-07-05               1                270   \n",
       "2  -73.97500          Chris  2019-06-22               3                 74   \n",
       "3  -73.98493       Shunichi  2019-06-24               2                430   \n",
       "4  -73.99037            Ben  2019-06-09               1                160   \n",
       "5  -73.96545           Lena  2019-06-22               5                 53   \n",
       "6  -73.98867           Kate  2019-06-23               2                188   \n",
       "7  -73.98779         Laurie  2019-06-24               4                167   \n",
       "8  -73.96113        Claudio  2019-07-05               2                113   \n",
       "9  -73.95352  Allen & Irina  2019-06-29               2                148   \n",
       "\n",
       "   reviews_per_month  calculated_host_listings_count  availability_365   \n",
       "0               0.38                               2               355  \\\n",
       "1               4.64                               1               194   \n",
       "2               0.59                               1               129   \n",
       "3               3.47                               1               220   \n",
       "4               1.33                               4               188   \n",
       "5               0.43                               1                 6   \n",
       "6               1.50                               1                39   \n",
       "7               1.34                               3               314   \n",
       "8               0.91                               1               333   \n",
       "9               1.20                               1                46   \n",
       "\n",
       "   booked_days_365                                       description   \n",
       "0               10                             Skylit Midtown Castle  \\\n",
       "1              171                   Cozy Entire Floor of Brownstone   \n",
       "2              236         Large Cozy 1 BR Apartment In Midtown East   \n",
       "3              145                   Large Furnished Room Near B'way   \n",
       "4              177                Cute & Cozy Lower East Side 1 bdrm   \n",
       "5              359                  Beautiful 1br on Upper West Side   \n",
       "6              326                   Central Manhattan/near Broadway   \n",
       "7               51    Lovely Room 1, Garden, Best Area, Legal rental   \n",
       "8               32  Wonderful Guest Bedroom in Manhattan for SINGLES   \n",
       "9              319                  Only 2 stops to Manhattan studio   \n",
       "\n",
       "         room_type  month  \n",
       "0  entire home/apt      5  \n",
       "1  entire home/apt      7  \n",
       "2  entire home/apt      6  \n",
       "3     private room      6  \n",
       "4  entire home/apt      6  \n",
       "5  entire home/apt      6  \n",
       "6     private room      6  \n",
       "7     private room      6  \n",
       "8     private room      7  \n",
       "9  entire home/apt      6  "
      ]
     },
     "execution_count": 225,
     "metadata": {},
     "output_type": "execute_result"
    }
   ],
   "source": [
    "merge_df.head(10)"
   ]
  },
  {
   "cell_type": "code",
   "execution_count": 226,
   "metadata": {},
   "outputs": [
    {
     "name": "stdout",
     "output_type": "stream",
     "text": [
      "room_type\n",
      "entire home/apt    13266\n",
      "private room       11351\n",
      "shared room          585\n",
      "Name: count, dtype: int64\n",
      "The average shared room is  53.64786324786325\n",
      "Manhattan\n",
      "borough        room_type      \n",
      "Bronx          private room        403\n",
      "               entire home/apt     261\n",
      "               shared room          33\n",
      "Brooklyn       entire home/apt    5367\n",
      "               private room       4906\n",
      "               shared room         187\n",
      "Manhattan      entire home/apt    6170\n",
      "               private room       3901\n",
      "               shared room         251\n",
      "Queens         private room       2009\n",
      "               entire home/apt    1335\n",
      "               shared room         112\n",
      "Staten Island  entire home/apt     133\n",
      "               private room        132\n",
      "               shared room           2\n",
      "Name: count, dtype: int64\n",
      "room_type\n",
      "entire home/apt    395\n",
      "private room        19\n",
      "shared room          1\n",
      "Name: listing_id, dtype: int64\n",
      "                 count        mean         std   min   25%    50%    75%   \n",
      "borough                                                                    \n",
      "Bronx            697.0   79.241033   58.051225  20.0  45.0   65.0   95.0  \\\n",
      "Brooklyn       10460.0  121.974665  123.958970  10.0  63.0   95.0  150.0   \n",
      "Manhattan      10322.0  184.000678  178.181024  10.0  95.0  149.0  215.0   \n",
      "Queens          3456.0   92.813947   78.514658  10.0  50.0   70.0  109.0   \n",
      "Staten Island    267.0   86.044944   54.624606  13.0  50.0   71.0  105.0   \n",
      "\n",
      "                  max  \n",
      "borough                \n",
      "Bronx           670.0  \n",
      "Brooklyn       7500.0  \n",
      "Manhattan      5100.0  \n",
      "Queens         2600.0  \n",
      "Staten Island   300.0  \n",
      "         borough  estimated_revenue\n",
      "0          Bronx       3.295687e+08\n",
      "1       Brooklyn       5.674437e+09\n",
      "2      Manhattan       9.119145e+09\n",
      "3         Queens       1.784702e+09\n",
      "4  Staten Island       1.503067e+08\n",
      "24485.4166665\n",
      "-0.07963883976666912\n"
     ]
    }
   ],
   "source": [
    "# Questions and answers to the quizes\n",
    "# 1. What is the most common room type in NYC Airbnb listings?This question is required. \n",
    "print(merge_df['room_type'].value_counts())\n",
    "\n",
    "# 2. What is the average price of the listings by room type \"shared room\"?This question is required. \n",
    "mean_shared_room_price = merge_df.loc[merge_df['room_type'] == 'shared room', 'price'].mean()\n",
    "print('The average shared room is ',mean_shared_room_price)\n",
    "\n",
    "# 3. Which borough has the highest average price per month?This question is required. \n",
    "average_price_per_month_by_borough = merge_df.groupby('borough')['price_per_month'].mean()\n",
    "highest_avg_price_borough = average_price_per_month_by_borough.idxmax()\n",
    "print(highest_avg_price_borough)\n",
    "\n",
    "# 4. How many listings of each room type are in each borough?This question is required. \n",
    "listing_count = merge_df.groupby('borough')['room_type'].value_counts()\n",
    "print(listing_count)\n",
    "\n",
    "# 5. How many listings in each room type category have a price greater than $500 per night?This question is required. \n",
    "listings_above_500 = merge_df[merge_df['price'] > 500].groupby('room_type')['listing_id'].count()\n",
    "print(listings_above_500)\n",
    "\n",
    "# 6. What is the distribution of listing prices by borough?This question is required. \n",
    "distribution_of_listing_price_by_borough= merge_df.groupby('borough')['price'].describe()\n",
    "print(distribution_of_listing_price_by_borough)\n",
    "\n",
    "# 7. What is the estimated amount of revenue generated by hosts in each borough?This question is required.\n",
    "revenue_by_borough = merge_df.groupby('borough').apply(lambda x: (x['price_per_month'] * x['availability_365']).sum()).reset_index(name='estimated_revenue')\n",
    "print(revenue_by_borough)\n",
    "\n",
    "# 8. What is the average price per month for listings in each neighborhood?\n",
    "avg_price_per_month_neighborhood = merge_df.loc[merge_df['neighbourhood'] == 'Sea Gate', 'price_per_month'].mean()\n",
    "print(avg_price_per_month_neighborhood)\n",
    "\n",
    "# 9. \n",
    "\n",
    "# 10. How do the estimated book days correlate with the price of an Airbnb listing in New York City?\n",
    "correlation = merge_df['booked_days_365'].corr(merge_df['price'])\n",
    "print(correlation)\n"
   ]
  },
  {
   "cell_type": "code",
   "execution_count": 227,
   "metadata": {},
   "outputs": [
    {
     "data": {
      "text/plain": [
       "Index(['listing_id', 'price', 'borough', 'neighbourhood', 'price_per_month',\n",
       "       'latitude', 'longitude', 'host_name', 'last_review', 'minimum_nights',\n",
       "       'number_of_reviews', 'reviews_per_month',\n",
       "       'calculated_host_listings_count', 'availability_365', 'booked_days_365',\n",
       "       'description', 'room_type', 'month'],\n",
       "      dtype='object')"
      ]
     },
     "execution_count": 227,
     "metadata": {},
     "output_type": "execute_result"
    }
   ],
   "source": [
    "#How many listings for each room_type have a reviews_per_month > 1.5?\n",
    "merge_df.columns"
   ]
  },
  {
   "cell_type": "code",
   "execution_count": 228,
   "metadata": {},
   "outputs": [],
   "source": [
    "listings_above_rev = merge_df[merge_df['reviews_per_month'] > 1.5].groupby('room_type')['listing_id'].count()"
   ]
  },
  {
   "cell_type": "code",
   "execution_count": 229,
   "metadata": {},
   "outputs": [
    {
     "name": "stdout",
     "output_type": "stream",
     "text": [
      "room_type\n",
      "entire home/apt    6294\n",
      "private room       5789\n",
      "shared room         298\n",
      "Name: listing_id, dtype: int64\n"
     ]
    }
   ],
   "source": [
    "print(listings_above_rev)"
   ]
  },
  {
   "cell_type": "code",
   "execution_count": 230,
   "metadata": {},
   "outputs": [
    {
     "data": {
      "text/plain": [
       "19696    365\n",
       "22588    365\n",
       "22615    365\n",
       "17210    365\n",
       "17209    365\n",
       "        ... \n",
       "9592       0\n",
       "7469       0\n",
       "9602       0\n",
       "21436      0\n",
       "9181       0\n",
       "Name: availability_365, Length: 25202, dtype: int64"
      ]
     },
     "execution_count": 230,
     "metadata": {},
     "output_type": "execute_result"
    }
   ],
   "source": [
    "merge_df['availability_365'].sort_values(ascending=False)"
   ]
  }
 ],
 "metadata": {
  "kernelspec": {
   "display_name": "Python 3",
   "language": "python",
   "name": "python3"
  },
  "language_info": {
   "codemirror_mode": {
    "name": "ipython",
    "version": 3
   },
   "file_extension": ".py",
   "mimetype": "text/x-python",
   "name": "python",
   "nbconvert_exporter": "python",
   "pygments_lexer": "ipython3",
   "version": "3.11.3"
  },
  "orig_nbformat": 4
 },
 "nbformat": 4,
 "nbformat_minor": 2
}
